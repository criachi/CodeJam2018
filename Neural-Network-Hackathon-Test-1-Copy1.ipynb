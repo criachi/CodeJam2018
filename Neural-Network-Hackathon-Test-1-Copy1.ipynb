{
 "cells": [
  {
   "cell_type": "code",
   "execution_count": 1,
   "metadata": {},
   "outputs": [],
   "source": [
    "import numpy as np\n",
    "import matplotlib.pyplot as plt\n",
    "import neurolab as nl\n",
    "%matplotlib inline"
   ]
  },
  {
   "cell_type": "code",
   "execution_count": 21,
   "metadata": {},
   "outputs": [
    {
     "data": {
      "text/plain": [
       "array([[ 44. ,  83. ,   6.5],\n",
       "       [ 34. ,  54. ,   8. ],\n",
       "       [ 43. ,  75. ,   6.7],\n",
       "       [ 36. ,  50. ,   7.5],\n",
       "       [ 80. , 100. ,   5. ],\n",
       "       [ 83. , 105. ,   5.2],\n",
       "       [ 83. , 120. ,   6. ],\n",
       "       [ 30. ,  50. ,   7.3],\n",
       "       [ 45. ,  84. ,   6.5],\n",
       "       [ 90. ,  90. ,   7. ],\n",
       "       [ 40. ,  50. ,   5. ],\n",
       "       [ 45. ,  60. ,   6. ],\n",
       "       [ 35. ,  55. ,   6.5],\n",
       "       [ 33. ,  45. ,   6. ],\n",
       "       [ 47. ,  80. ,   6.5]])"
      ]
     },
     "execution_count": 21,
     "metadata": {},
     "output_type": "execute_result"
    }
   ],
   "source": [
    "text = np.loadtxt('test1.txt')\n",
    "data = text[:,0:2]\n",
    "labels = text[:, 2:]\n",
    "\n",
    "text"
   ]
  },
  {
   "cell_type": "code",
   "execution_count": 22,
   "metadata": {},
   "outputs": [
    {
     "data": {
      "text/plain": [
       "array([[6.5],\n",
       "       [8. ],\n",
       "       [6.7],\n",
       "       [7.5],\n",
       "       [5. ],\n",
       "       [5.2],\n",
       "       [6. ],\n",
       "       [7.3],\n",
       "       [6.5],\n",
       "       [7. ],\n",
       "       [5. ],\n",
       "       [6. ],\n",
       "       [6.5],\n",
       "       [6. ],\n",
       "       [6.5]])"
      ]
     },
     "execution_count": 22,
     "metadata": {},
     "output_type": "execute_result"
    }
   ],
   "source": [
    "labels"
   ]
  },
  {
   "cell_type": "code",
   "execution_count": 23,
   "metadata": {},
   "outputs": [
    {
     "data": {
      "text/plain": [
       "array([[ 44.,  83.],\n",
       "       [ 34.,  54.],\n",
       "       [ 43.,  75.],\n",
       "       [ 36.,  50.],\n",
       "       [ 80., 100.],\n",
       "       [ 83., 105.],\n",
       "       [ 83., 120.],\n",
       "       [ 30.,  50.],\n",
       "       [ 45.,  84.],\n",
       "       [ 90.,  90.],\n",
       "       [ 40.,  50.],\n",
       "       [ 45.,  60.],\n",
       "       [ 35.,  55.],\n",
       "       [ 33.,  45.],\n",
       "       [ 47.,  80.]])"
      ]
     },
     "execution_count": 23,
     "metadata": {},
     "output_type": "execute_result"
    }
   ],
   "source": [
    "data"
   ]
  },
  {
   "cell_type": "code",
   "execution_count": 24,
   "metadata": {},
   "outputs": [
    {
     "data": {
      "text/plain": [
       "Text(0.5,1,'plot')"
      ]
     },
     "execution_count": 24,
     "metadata": {},
     "output_type": "execute_result"
    },
    {
     "data": {
      "image/png": "[encoded data removed]",
      "text/plain": [
       "<Figure size 432x288 with 1 Axes>"
      ]
     },
     "metadata": {
      "needs_background": "light"
     },
     "output_type": "display_data"
    }
   ],
   "source": [
    "plt.scatter(data[:,0], data[:,1])\n",
    "plt.xlabel('Dimension 1')\n",
    "plt.ylabel('Dimension 2')\n",
    "plt.title('plot')"
   ]
  },
  {
   "cell_type": "code",
   "execution_count": 76,
   "metadata": {},
   "outputs": [],
   "source": [
    "dim1_min, dim1_max = data[:,0].min(), data[:,0].max()\n",
    "dim2_min, dim2_max = data[:, 1].min(), data[:, 1].max()\n",
    "num_output = labels.shape[1]\n",
    "dim1 = [dim1_min, dim1_max]\n",
    "dim2 = [dim2_min, dim2_max]\n",
    "snn = nl.net.newp([dim1, dim2], num_output)"
   ]
  },
  {
   "cell_type": "code",
   "execution_count": 77,
   "metadata": {},
   "outputs": [
    {
     "name": "stdout",
     "output_type": "stream",
     "text": [
      "Epoch: 20; Error: 222.535;\n",
      "Epoch: 40; Error: 222.535;\n",
      "Epoch: 60; Error: 222.535;\n",
      "Epoch: 80; Error: 222.535;\n",
      "Epoch: 100; Error: 222.535;\n",
      "The maximum number of train epochs is reached\n"
     ]
    }
   ],
   "source": [
    "error_progress = snn.train(data, labels, epochs = 100, show = 20, lr=0.03)"
   ]
  },
  {
   "cell_type": "code",
   "execution_count": 78,
   "metadata": {},
   "outputs": [
    {
     "data": {
      "image/png": "[encoded data removed]",
      "text/plain": [
       "<Figure size 432x288 with 1 Axes>"
      ]
     },
     "metadata": {
      "needs_background": "light"
     },
     "output_type": "display_data"
    }
   ],
   "source": [
    "plt.plot(error_progress)\n",
    "plt.xlabel('epochs')\n",
    "plt.ylabel('Training Data')\n",
    "plt.title('Training Data learning')\n",
    "plt.grid()"
   ]
  },
  {
   "cell_type": "code",
   "execution_count": 80,
   "metadata": {},
   "outputs": [
    {
     "name": "stdout",
     "output_type": "stream",
     "text": [
      "Testing Data:\n",
      "\n",
      "[40, 60] ==> [1.]\n",
      "[100, 100] ==> [1.]\n",
      "[30, 50] ==> [1.]\n"
     ]
    }
   ],
   "source": [
    "print('Testing Data:\\n')\n",
    "testing_data = [[40, 60], [100, 100], [30, 50]]\n",
    "for i in testing_data:\n",
    "    print(i, '==>', snn.sim([i])[0])"
   ]
  },
  {
   "cell_type": "code",
   "execution_count": null,
   "metadata": {},
   "outputs": [],
   "source": []
  },
  {
   "cell_type": "code",
   "execution_count": null,
   "metadata": {},
   "outputs": [],
   "source": []
  }
 ],
 "metadata": {
  "kernelspec": {
   "display_name": "Python 3",
   "language": "python",
   "name": "python3"
  },
  "language_info": {
   "codemirror_mode": {
    "name": "ipython",
    "version": 3
   },
   "file_extension": ".py",
   "mimetype": "text/x-python",
   "name": "python",
   "nbconvert_exporter": "python",
   "pygments_lexer": "ipython3",
   "version": "3.7.0"
  }
 },
 "nbformat": 4,
 "nbformat_minor": 2
}
